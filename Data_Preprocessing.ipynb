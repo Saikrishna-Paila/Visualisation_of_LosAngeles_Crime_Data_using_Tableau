{
 "cells": [
  {
   "cell_type": "code",
   "execution_count": 14,
   "metadata": {},
   "outputs": [],
   "source": [
    "# Importing libraries\n",
    "import pandas as pd\n",
    "from datetime import datetime"
   ]
  },
  {
   "cell_type": "code",
   "execution_count": 15,
   "metadata": {},
   "outputs": [],
   "source": [
    "# Reading the CSV file\n",
    "file_path = \"Crime_Data_from_2020_to_Present.csv\" \n",
    "df = pd.read_csv(file_path)"
   ]
  },
  {
   "cell_type": "code",
   "execution_count": 16,
   "metadata": {},
   "outputs": [],
   "source": [
    "sample_df=df.sample(n=1000)"
   ]
  },
  {
   "cell_type": "code",
   "execution_count": 17,
   "metadata": {},
   "outputs": [
    {
     "data": {
      "text/plain": [
       "(938457, 28)"
      ]
     },
     "execution_count": 17,
     "metadata": {},
     "output_type": "execute_result"
    }
   ],
   "source": [
    "df.shape"
   ]
  },
  {
   "cell_type": "code",
   "execution_count": 18,
   "metadata": {},
   "outputs": [
    {
     "data": {
      "text/plain": [
       "DR_NO                  0\n",
       "Date Rptd              0\n",
       "DATE OCC               0\n",
       "TIME OCC               0\n",
       "AREA                   0\n",
       "AREA NAME              0\n",
       "Rpt Dist No            0\n",
       "Part 1-2               0\n",
       "Crm Cd                 0\n",
       "Crm Cd Desc            0\n",
       "Mocodes           131889\n",
       "Vict Age               0\n",
       "Vict Sex          125454\n",
       "Vict Descent      125464\n",
       "Premis Cd             10\n",
       "Premis Desc          563\n",
       "Weapon Used Cd    615391\n",
       "Weapon Desc       615391\n",
       "Status                 0\n",
       "Status Desc            0\n",
       "Crm Cd 1              11\n",
       "Crm Cd 2          870521\n",
       "Crm Cd 3          936181\n",
       "Crm Cd 4          938392\n",
       "LOCATION               0\n",
       "Cross Street      791589\n",
       "LAT                    0\n",
       "LON                    0\n",
       "dtype: int64"
      ]
     },
     "execution_count": 18,
     "metadata": {},
     "output_type": "execute_result"
    }
   ],
   "source": [
    "# Checking for Null Values\n",
    "df.isnull().sum()"
   ]
  },
  {
   "cell_type": "code",
   "execution_count": 19,
   "metadata": {},
   "outputs": [],
   "source": [
    "# Date format correction\n",
    "def correct_and_extract_date(date_string):\n",
    "    try:\n",
    "        # Try parsing the date string\n",
    "        date = datetime.strptime(date_string, '%m/%d/%y %H:%M')\n",
    "        return date.strftime('%m/%d/%Y')\n",
    "    except ValueError:\n",
    "        try:\n",
    "            # Try parsing the date string with a different format\n",
    "            date = datetime.strptime(date_string, '%m/%d/%Y %I:%M:%S %p')\n",
    "            return date.strftime('%m/%d/%Y')\n",
    "        except ValueError:\n",
    "            return \"Invalid Date Format\"\n",
    "\n",
    "def rep(lit):\n",
    "    return lit.replace(\"  \", \" \")\n",
    "\n",
    "def ledzero(lit):\n",
    "    val = str(lit).zfill(4)\n",
    "    return val[:2] + \":\" + val[2:]"
   ]
  },
  {
   "cell_type": "code",
   "execution_count": 20,
   "metadata": {},
   "outputs": [],
   "source": [
    "\n",
    "# Data preprocessing for DateTime fields\n",
    "df['Date Rptd'] = df['Date Rptd'].apply(correct_and_extract_date)\n",
    "df['DATE OCC'] = df['DATE OCC'].apply(correct_and_extract_date)\n",
    "df['TIME OCC'] = df[\"TIME OCC\"].apply(ledzero)\n",
    "df['TIME OCC'] = df[\"TIME OCC\"]\n",
    "\n",
    "df['DATE OCC'] = df[\"DATE OCC\"] + \" \" + df[\"TIME OCC\"]\n"
   ]
  },
  {
   "cell_type": "code",
   "execution_count": 21,
   "metadata": {},
   "outputs": [],
   "source": [
    "# Trimming all the spaces in LOCATION field\n",
    "for _ in range(0, 5):\n",
    "    df['LOCATION'] = df['LOCATION'].apply(rep)\n",
    "\n",
    "# run this 5-7 times to remove all the spaces\n"
   ]
  },
  {
   "cell_type": "code",
   "execution_count": 22,
   "metadata": {},
   "outputs": [],
   "source": [
    "# Cleanig the rows that have (0,0) coordinates\n",
    "def remove_zero_coordinates(df):\n",
    "    # Filter out rows where both latitude and longitude are 0\n",
    "    filtered_df = df[(df['LAT'] != 0) | (df['LON'] != 0)]\n",
    "    return filtered_df"
   ]
  },
  {
   "cell_type": "code",
   "execution_count": 23,
   "metadata": {},
   "outputs": [],
   "source": [
    "df = remove_zero_coordinates(df)"
   ]
  },
  {
   "cell_type": "code",
   "execution_count": 24,
   "metadata": {},
   "outputs": [
    {
     "name": "stdout",
     "output_type": "stream",
     "text": [
      "Number of rows in each year:\n",
      "Year\n",
      "2020    198894\n",
      "2021    208222\n",
      "2022    234939\n",
      "2023    231526\n",
      "2024     62612\n",
      "dtype: int64\n"
     ]
    },
    {
     "data": {
      "text/plain": [
       "0         2020\n",
       "2         2020\n",
       "3         2020\n",
       "4         2020\n",
       "5         2020\n",
       "          ... \n",
       "938452    2024\n",
       "938453    2024\n",
       "938454    2024\n",
       "938455    2024\n",
       "938456    2024\n",
       "Name: Year, Length: 936192, dtype: int32"
      ]
     },
     "execution_count": 24,
     "metadata": {},
     "output_type": "execute_result"
    }
   ],
   "source": [
    "# We have data until 2024 April, but untill 2023 Dec is suffice for visualization\n",
    "df['DATE OCC'] = pd.to_datetime(df['DATE OCC'])\n",
    "\n",
    "# Extract year from 'DATE OCC' column\n",
    "df['Year'] = df['DATE OCC'].dt.year\n",
    "\n",
    "\n",
    "# Group by year and count the number of rows\n",
    "yearly_counts = df.groupby('Year').size()\n",
    "\n",
    "# Print the result\n",
    "print(\"Number of rows in each year:\")\n",
    "print(yearly_counts)\n",
    "df[\"Year\"].drop(index=1)"
   ]
  },
  {
   "cell_type": "code",
   "execution_count": 25,
   "metadata": {},
   "outputs": [],
   "source": [
    "# Trimming the dataset until 2023\n",
    "df = df[df['DATE OCC'].dt.year <= 2023]"
   ]
  },
  {
   "cell_type": "code",
   "execution_count": 26,
   "metadata": {},
   "outputs": [
    {
     "name": "stdout",
     "output_type": "stream",
     "text": [
      "DataFrame saved to: Crime_Data_2020-2023.csv\n"
     ]
    }
   ],
   "source": [
    "# Generating the clean dataset from dataframe\n",
    "output_file_path = \"Crime_Data_2020-2023.csv\" \n",
    "df.to_csv(output_file_path, index=False)\n",
    "\n",
    "# Print confirmation message\n",
    "print(\"DataFrame saved to:\", output_file_path)"
   ]
  }
 ],
 "metadata": {
  "kernelspec": {
   "display_name": "Python 3",
   "language": "python",
   "name": "python3"
  },
  "language_info": {
   "codemirror_mode": {
    "name": "ipython",
    "version": 3
   },
   "file_extension": ".py",
   "mimetype": "text/x-python",
   "name": "python",
   "nbconvert_exporter": "python",
   "pygments_lexer": "ipython3",
   "version": "3.9.6"
  },
  "orig_nbformat": 4
 },
 "nbformat": 4,
 "nbformat_minor": 2
}
